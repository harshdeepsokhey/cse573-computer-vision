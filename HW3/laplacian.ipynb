{
 "cells": [
  {
   "cell_type": "code",
   "execution_count": 34,
   "metadata": {},
   "outputs": [],
   "source": [
    "#conv 3x3 laplacian\n",
    "import cv2\n",
    "import numpy as np\n",
    "from matplotlib.pyplot import imshow,title\n",
    "%matplotlib inline"
   ]
  },
  {
   "cell_type": "code",
   "execution_count": 35,
   "metadata": {},
   "outputs": [],
   "source": [
    "I = np.array([[0,0,0,0,0,0,0],\n",
    "              [0,0,1,1,1,1,0],\n",
    "              [0,0,0,0,1,1,0],\n",
    "              [0,0,0,1,1,1,0],\n",
    "              [0,0,0,0,0,0,0]], dtype=np.float32); "
   ]
  },
  {
   "cell_type": "code",
   "execution_count": 36,
   "metadata": {},
   "outputs": [
    {
     "data": {
      "image/png": "[encoded data removed]",
      "text/plain": [
       "<Figure size 432x288 with 1 Axes>"
      ]
     },
     "metadata": {},
     "output_type": "display_data"
    }
   ],
   "source": [
    "imshow(I, cmap='gray');\n",
    "title('Original Image');"
   ]
  },
  {
   "cell_type": "code",
   "execution_count": 37,
   "metadata": {},
   "outputs": [
    {
     "data": {
      "image/png": "[encoded data removed]",
      "text/plain": [
       "<Figure size 432x288 with 1 Axes>"
      ]
     },
     "metadata": {},
     "output_type": "display_data"
    }
   ],
   "source": [
    "L = np.array([[0,1,0],\n",
    "             [1,-4,1],\n",
    "             [0,1,0]], dtype=np.float32)\n",
    "\n",
    "imshow(L, cmap='gray');\n",
    "title('Laplacian Filter');"
   ]
  },
  {
   "cell_type": "code",
   "execution_count": 38,
   "metadata": {},
   "outputs": [],
   "source": [
    "H = cv2.filter2D(I,-1,L)"
   ]
  },
  {
   "cell_type": "code",
   "execution_count": 39,
   "metadata": {},
   "outputs": [
    {
     "data": {
      "image/png": "[encoded data removed]",
      "text/plain": [
       "<Figure size 432x288 with 1 Axes>"
      ]
     },
     "metadata": {},
     "output_type": "display_data"
    }
   ],
   "source": [
    "imshow(y, cmap='gray');\n",
    "title('After Laplacian Operator');"
   ]
  },
  {
   "cell_type": "code",
   "execution_count": 40,
   "metadata": {},
   "outputs": [
    {
     "name": "stdout",
     "output_type": "stream",
     "text": [
      "[[ 0.  0.  2.  2.  2.  2.  0.]\n",
      " [ 0.  1. -3. -2. -1. -2.  2.]\n",
      " [ 0.  0.  1.  3. -1. -1.  2.]\n",
      " [ 0.  0.  1. -3. -1. -2.  2.]\n",
      " [ 0.  0.  0.  2.  2.  2.  0.]]\n"
     ]
    }
   ],
   "source": [
    "print(H)"
   ]
  },
  {
   "cell_type": "code",
   "execution_count": null,
   "metadata": {},
   "outputs": [],
   "source": []
  }
 ],
 "metadata": {
  "kernelspec": {
   "display_name": "Python 2",
   "language": "python",
   "name": "python2"
  },
  "language_info": {
   "codemirror_mode": {
    "name": "ipython",
    "version": 2
   },
   "file_extension": ".py",
   "mimetype": "text/x-python",
   "name": "python",
   "nbconvert_exporter": "python",
   "pygments_lexer": "ipython2",
   "version": "2.7.15"
  }
 },
 "nbformat": 4,
 "nbformat_minor": 2
}
